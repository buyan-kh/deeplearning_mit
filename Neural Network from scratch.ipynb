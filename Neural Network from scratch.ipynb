{
 "cells": [
  {
   "cell_type": "markdown",
   "id": "6fbd17d8-6ca8-4a94-9b47-e1f75492acd7",
   "metadata": {},
   "source": [
    "## Goal:\n",
    "* To understand how deep learning works on a deep level\n",
    "* To understand how to make code more efficient using vectorization\n",
    "* Implement neural network from scratch and understand all the math along the way"
   ]
  },
  {
   "cell_type": "code",
   "execution_count": null,
   "id": "9c0bfee6-742a-43e3-a671-f2a51753a51f",
   "metadata": {},
   "outputs": [],
   "source": []
  }
 ],
 "metadata": {
  "kernelspec": {
   "display_name": "Python 3 (ipykernel)",
   "language": "python",
   "name": "python3"
  },
  "language_info": {
   "codemirror_mode": {
    "name": "ipython",
    "version": 3
   },
   "file_extension": ".py",
   "mimetype": "text/x-python",
   "name": "python",
   "nbconvert_exporter": "python",
   "pygments_lexer": "ipython3",
   "version": "3.12.3"
  }
 },
 "nbformat": 4,
 "nbformat_minor": 5
}
