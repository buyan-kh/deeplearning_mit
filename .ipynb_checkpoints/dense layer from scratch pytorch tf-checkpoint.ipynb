{
 "cells": [
  {
   "cell_type": "code",
   "execution_count": 12,
   "id": "a04d0309-9a0c-43f7-8fb9-662fc1d0bf76",
   "metadata": {},
   "outputs": [],
   "source": [
    "import tensorflow as tf\n",
    "import torch\n",
    "import torch.nn as nn"
   ]
  },
  {
   "cell_type": "code",
   "execution_count": 8,
   "id": "d42063ed-0ca5-4878-b52f-f001a05dcf2e",
   "metadata": {},
   "outputs": [],
   "source": [
    "# Tensorflow"
   ]
  },
  {
   "cell_type": "code",
   "execution_count": 7,
   "id": "333a7e42-7deb-43bf-8565-33e0b4320881",
   "metadata": {},
   "outputs": [],
   "source": [
    "class MyDenseLayer(tf.keras.layers.Layer):\n",
    "    \n",
    "    def __init__(self, input_dim, output_dim):\n",
    "        \n",
    "        super(MyDenseLayer, self).__init__()\n",
    "        \n",
    "        self.W = self.add_weight([input_dim, output_dim])\n",
    "        \n",
    "        self.b = self.add_weight([1, output_dim])\n",
    "        \n",
    "    def call(self, inputs):\n",
    "        z = tf.matmul(inputs, self.W) + self.b\n",
    "        output = tf.math.sigmoid(z)\n",
    "        return output"
   ]
  },
  {
   "cell_type": "code",
   "execution_count": 16,
   "id": "a1e2de4c-d027-4204-acf8-7ef92b1fe666",
   "metadata": {},
   "outputs": [],
   "source": [
    "layer = tf.keras.layers.Dense(units=2)\n",
    "n1 = 4\n",
    "n2 = 8\n",
    "n3 = 4\n",
    "model_1 = tf.keras.Sequential([\n",
    "    tf.keras.layers.Dense(n1),\n",
    "    tf.keras.layers.Dense(n2),\n",
    "    tf.keras.layers.Dense(n3),\n",
    "    tf.keras.layers.Dense(2)\n",
    "])"
   ]
  },
  {
   "cell_type": "code",
   "execution_count": 9,
   "id": "1eb7ad5b-cf1c-474a-8343-2349cb383af7",
   "metadata": {},
   "outputs": [],
   "source": [
    "# Pytorch"
   ]
  },
  {
   "cell_type": "code",
   "execution_count": 13,
   "id": "8a96a231-20c9-4e58-852d-48add698152f",
   "metadata": {},
   "outputs": [],
   "source": [
    "class MyDenseLayer(nn.Module):\n",
    "    def __init__(self, input_dim, output_dim):\n",
    "        super(MyDenseLayer, self).__init__()\n",
    "\n",
    "        self.W = nn.Parameter(torch.randn(input_dim, output_dim, requires_grad=True))\n",
    "        self.b = nn.Parameter(torch.randn(1, output_dim, requires_grad=True))\n",
    "    def forward(self, inputs):\n",
    "            z = torch.matmul(inputs, self.W) + self.b\n",
    "            output = torch.sigmoid(z)\n",
    "            return output"
   ]
  },
  {
   "cell_type": "code",
   "execution_count": 17,
   "id": "926a27d2-c25f-4105-8a11-74e9518d884a",
   "metadata": {},
   "outputs": [],
   "source": [
    "m = 1\n",
    "layer = nn.Linear(in_features=m, out_features=2)"
   ]
  },
  {
   "cell_type": "code",
   "execution_count": null,
   "id": "75db9d16-ab10-4177-bc48-a8ce7e7e93bb",
   "metadata": {},
   "outputs": [],
   "source": []
  }
 ],
 "metadata": {
  "kernelspec": {
   "display_name": "Python 3 (ipykernel)",
   "language": "python",
   "name": "python3"
  },
  "language_info": {
   "codemirror_mode": {
    "name": "ipython",
    "version": 3
   },
   "file_extension": ".py",
   "mimetype": "text/x-python",
   "name": "python",
   "nbconvert_exporter": "python",
   "pygments_lexer": "ipython3",
   "version": "3.12.3"
  }
 },
 "nbformat": 4,
 "nbformat_minor": 5
}
