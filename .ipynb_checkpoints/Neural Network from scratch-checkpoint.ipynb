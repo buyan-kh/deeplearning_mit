{
 "cells": [
  {
   "cell_type": "markdown",
   "id": "6fbd17d8-6ca8-4a94-9b47-e1f75492acd7",
   "metadata": {},
   "source": [
    "## Goal:\n",
    "* To understand how deep learning works on a deep level\n",
    "* To understand how to make code more efficient using vectorization\n",
    "* Implement neural network from scratch and understand all the math along the way"
   ]
  },
  {
   "cell_type": "markdown",
   "id": "942b2bf8-6fc7-4014-a8b1-675eca960b9b",
   "metadata": {},
   "source": [
    "chain rule: f(g(x)) = f'(g(x)) * g'(x)"
   ]
  },
  {
   "cell_type": "code",
   "execution_count": 1,
   "id": "9c548f5c-ad1f-4c4c-af01-e10f589021fa",
   "metadata": {},
   "outputs": [
    {
     "name": "stdout",
     "output_type": "stream",
     "text": [
      "layer 0 / input layer size 2\n",
      "layer 1 size 3\n",
      "layer 2 size 3\n",
      "layer 3 size 1\n"
     ]
    }
   ],
   "source": [
    "n = [2, 3, 3, 1]\n",
    "print(\"layer 0 / input layer size\", n[0])\n",
    "print(\"layer 1 size\", n[1])\n",
    "print(\"layer 2 size\", n[2])\n",
    "print(\"layer 3 size\", n[3])"
   ]
  },
  {
   "cell_type": "code",
   "execution_count": 2,
   "id": "d5fa6067-4dfc-4967-8c7f-923e6e3b88c3",
   "metadata": {},
   "outputs": [],
   "source": [
    "import numpy as np"
   ]
  },
  {
   "cell_type": "code",
   "execution_count": 3,
   "id": "45ad6196-2803-46bc-9368-880bbc4cce48",
   "metadata": {},
   "outputs": [],
   "source": [
    "W1 = np.random.randn(n[1], n[0])\n",
    "W2 = np.random.randn(n[2], n[1])\n",
    "W3 = np.random.randn(n[3], n[2])\n",
    "b1 = np.random.randn(n[1], 1)\n",
    "b2 = np.random.randn(n[2], 1)\n",
    "b3 = np.random.randn(n[3], 1)"
   ]
  },
  {
   "cell_type": "code",
   "execution_count": 4,
   "id": "2edda9ad-0252-4f47-b4fa-89139abe88d0",
   "metadata": {},
   "outputs": [
    {
     "name": "stdout",
     "output_type": "stream",
     "text": [
      "Weights for layer 1 shape: (3, 2)\n",
      "Weights for layer 2 shape: (3, 3)\n",
      "Weights for layer 3 shape: (1, 3)\n",
      "bias for layer 1 shape: (3, 1)\n",
      "bias for layer 2 shape: (3, 1)\n",
      "bias for layer 3 shape: (1, 1)\n"
     ]
    }
   ],
   "source": [
    "print(\"Weights for layer 1 shape:\", W1.shape)\n",
    "print(\"Weights for layer 2 shape:\", W2.shape)\n",
    "print(\"Weights for layer 3 shape:\", W3.shape)\n",
    "print(\"bias for layer 1 shape:\", b1.shape)\n",
    "print(\"bias for layer 2 shape:\", b2.shape)\n",
    "print(\"bias for layer 3 shape:\", b3.shape)"
   ]
  },
  {
   "cell_type": "code",
   "execution_count": 5,
   "id": "cf6a826a-1aa5-420c-a062-2375ae7d200b",
   "metadata": {},
   "outputs": [
    {
     "data": {
      "text/plain": [
       "array([[ 0.58139549,  0.17533709],\n",
       "       [ 1.38957902,  1.37666367],\n",
       "       [ 0.47689833, -2.28266663]])"
      ]
     },
     "execution_count": 5,
     "metadata": {},
     "output_type": "execute_result"
    }
   ],
   "source": [
    "W1"
   ]
  },
  {
   "cell_type": "code",
   "execution_count": 6,
   "id": "0e7d6ea8-bc32-4524-a7cf-aca848d1305d",
   "metadata": {},
   "outputs": [
    {
     "name": "stdout",
     "output_type": "stream",
     "text": [
      "(10, 2)\n"
     ]
    }
   ],
   "source": [
    "X = np.array([\n",
    "    [150, 70],\n",
    "    [254, 73],\n",
    "    [312, 68],\n",
    "    [120, 60],\n",
    "    [154, 61],\n",
    "    [212, 65],\n",
    "    [216, 67],\n",
    "    [145, 67],\n",
    "    [184, 64],\n",
    "    [130, 69]\n",
    "])\n",
    "\n",
    "print(X.shape)"
   ]
  },
  {
   "cell_type": "code",
   "execution_count": 12,
   "id": "7335f8ea-6344-46df-8018-c4fe7a869843",
   "metadata": {},
   "outputs": [
    {
     "name": "stdout",
     "output_type": "stream",
     "text": [
      "(2, 10)\n"
     ]
    }
   ],
   "source": [
    "A0 = X.T\n",
    "print(A0.shape)"
   ]
  },
  {
   "cell_type": "code",
   "execution_count": 14,
   "id": "3ffd9b32-40eb-4017-929d-4a9727f5a51c",
   "metadata": {},
   "outputs": [
    {
     "data": {
      "text/plain": [
       "(1, 10)"
      ]
     },
     "execution_count": 14,
     "metadata": {},
     "output_type": "execute_result"
    }
   ],
   "source": [
    "y = np.array([\n",
    "    0,\n",
    "    1, \n",
    "    1,\n",
    "    0,\n",
    "    0,\n",
    "    1,\n",
    "    1,\n",
    "    0,\n",
    "    1,\n",
    "    0\n",
    "])\n",
    "m = 10\n",
    "\n",
    "Y = y.reshape(n[3], m)\n",
    "Y.shape"
   ]
  },
  {
   "cell_type": "code",
   "execution_count": 8,
   "id": "5e502b86-fbec-421a-a3b3-3cd16c8cec56",
   "metadata": {},
   "outputs": [],
   "source": [
    "def sigmoid(arr):\n",
    "    return 1 / (1 + np.exp(-1 * arr))"
   ]
  },
  {
   "cell_type": "code",
   "execution_count": 10,
   "id": "3abf4874-0a6b-44ad-b0ad-d21ccaa8c242",
   "metadata": {},
   "outputs": [
    {
     "data": {
      "text/plain": [
       "array([7.31058579e-01, 8.80797078e-01, 9.52574127e-01, 4.24835426e-18,\n",
       "       1.00000000e+00])"
      ]
     },
     "execution_count": 10,
     "metadata": {},
     "output_type": "execute_result"
    }
   ],
   "source": [
    "sigmoid(np.array([1, 2, 3, -40, 100]))"
   ]
  },
  {
   "cell_type": "code",
   "execution_count": 16,
   "id": "eef21ad4-d342-496a-a675-64e337fd44e1",
   "metadata": {},
   "outputs": [],
   "source": [
    "m = 10\n",
    "# layer 1 calculations\n",
    "Z1 = W1 @ A0 + b1 # @ means matrix multiplication\n",
    "\n",
    "assert Z1.shape == (n[1], m) # checking if shapes are ok\n",
    "A1 = sigmoid(Z1)\n",
    "\n",
    "# layer 2 calculations\n",
    "Z2 = W2 @ A1 + b2\n",
    "assert Z2.shape == (n[2], m)\n",
    "A2 = sigmoid(Z2)\n",
    "\n",
    "# layer 3 calculations\n",
    "Z3 = W3 @ A2 + b3\n",
    "assert Z3.shape == (n[3], m)\n",
    "A3 = sigmoid(Z3)"
   ]
  },
  {
   "cell_type": "code",
   "execution_count": 18,
   "id": "058475e4-72dc-4552-9a5a-e8aecee0dd05",
   "metadata": {},
   "outputs": [
    {
     "name": "stdout",
     "output_type": "stream",
     "text": [
      "(1, 10)\n",
      "[[0.29536186 0.29536186 0.29536383 0.29536186 0.29536186 0.29536186\n",
      "  0.29536186 0.29536186 0.29536186 0.29536186]]\n"
     ]
    }
   ],
   "source": [
    "print(A3.shape)\n",
    "y_hat = A3\n",
    "print(y_hat)"
   ]
  },
  {
   "cell_type": "code",
   "execution_count": null,
   "id": "bf35607d-307f-4f61-b982-a45d2c703cac",
   "metadata": {},
   "outputs": [],
   "source": []
  }
 ],
 "metadata": {
  "kernelspec": {
   "display_name": "Python 3 (ipykernel)",
   "language": "python",
   "name": "python3"
  },
  "language_info": {
   "codemirror_mode": {
    "name": "ipython",
    "version": 3
   },
   "file_extension": ".py",
   "mimetype": "text/x-python",
   "name": "python",
   "nbconvert_exporter": "python",
   "pygments_lexer": "ipython3",
   "version": "3.12.3"
  }
 },
 "nbformat": 4,
 "nbformat_minor": 5
}
