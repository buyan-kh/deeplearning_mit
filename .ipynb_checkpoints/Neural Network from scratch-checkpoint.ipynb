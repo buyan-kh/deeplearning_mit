{
 "cells": [
  {
   "cell_type": "markdown",
   "id": "6fbd17d8-6ca8-4a94-9b47-e1f75492acd7",
   "metadata": {},
   "source": [
    "## Goal:\n",
    "* To understand how deep learning works on a deep level\n",
    "* To understand how to make code more efficient using vectorization\n",
    "* Implement neural network from scratch and understand all the math along the way"
   ]
  },
  {
   "cell_type": "markdown",
   "id": "942b2bf8-6fc7-4014-a8b1-675eca960b9b",
   "metadata": {},
   "source": [
    "chain rule: f(g(x)) = f'(g(x)) * g'(x)"
   ]
  },
  {
   "cell_type": "code",
   "execution_count": 1,
   "id": "9c548f5c-ad1f-4c4c-af01-e10f589021fa",
   "metadata": {},
   "outputs": [
    {
     "name": "stdout",
     "output_type": "stream",
     "text": [
      "layer 0 / input layer size 2\n",
      "layer 1 size 3\n",
      "layer 2 size 3\n",
      "layer 3 size 1\n"
     ]
    }
   ],
   "source": [
    "n = [2, 3, 3, 1]\n",
    "print(\"layer 0 / input layer size\", n[0])\n",
    "print(\"layer 1 size\", n[1])\n",
    "print(\"layer 2 size\", n[2])\n",
    "print(\"layer 3 size\", n[3])"
   ]
  },
  {
   "cell_type": "code",
   "execution_count": 2,
   "id": "d5fa6067-4dfc-4967-8c7f-923e6e3b88c3",
   "metadata": {},
   "outputs": [],
   "source": [
    "import numpy as np"
   ]
  },
  {
   "cell_type": "code",
   "execution_count": 3,
   "id": "45ad6196-2803-46bc-9368-880bbc4cce48",
   "metadata": {},
   "outputs": [],
   "source": [
    "W1 = np.random.randn(n[1], n[0])\n",
    "W2 = np.random.randn(n[2], n[1])\n",
    "W3 = np.random.randn(n[3], n[2])\n",
    "b1 = np.random.randn(n[1], 1)\n",
    "b2 = np.random.randn(n[2], 1)\n",
    "b3 = np.random.randn(n[3], 1)"
   ]
  },
  {
   "cell_type": "code",
   "execution_count": 5,
   "id": "2edda9ad-0252-4f47-b4fa-89139abe88d0",
   "metadata": {},
   "outputs": [
    {
     "name": "stdout",
     "output_type": "stream",
     "text": [
      "Weights for layer 1 shape: (3, 2)\n",
      "Weights for layer 2 shape: (3, 3)\n",
      "Weights for layer 3 shape: (1, 3)\n",
      "bias for layer 1 shape: (3, 1)\n",
      "bias for layer 2 shape: (3, 1)\n",
      "bias for layer 3 shape: (1, 1)\n"
     ]
    }
   ],
   "source": [
    "print(\"Weights for layer 1 shape:\", W1.shape)\n",
    "print(\"Weights for layer 2 shape:\", W2.shape)\n",
    "print(\"Weights for layer 3 shape:\", W3.shape)\n",
    "print(\"bias for layer 1 shape:\", b1.shape)\n",
    "print(\"bias for layer 2 shape:\", b2.shape)\n",
    "print(\"bias for layer 3 shape:\", b3.shape)"
   ]
  },
  {
   "cell_type": "code",
   "execution_count": 6,
   "id": "cf6a826a-1aa5-420c-a062-2375ae7d200b",
   "metadata": {},
   "outputs": [
    {
     "data": {
      "text/plain": [
       "array([[-1.08410758, -0.07979348],\n",
       "       [-0.61480038, -1.24498621],\n",
       "       [ 0.45653748,  0.07684848]])"
      ]
     },
     "execution_count": 6,
     "metadata": {},
     "output_type": "execute_result"
    }
   ],
   "source": [
    "W1"
   ]
  },
  {
   "cell_type": "code",
   "execution_count": null,
   "id": "0e7d6ea8-bc32-4524-a7cf-aca848d1305d",
   "metadata": {},
   "outputs": [],
   "source": [
    "X = np.array([\n",
    "    [150, 70],\n",
    "    [254, 73],\n",
    "    [312, 68],\n",
    "    [120, 60],\n",
    "    [154, 61],\n",
    "    [212, 65],\n",
    "    [216, 67],\n",
    "    [145, 67],\n",
    "    [184, 64],\n",
    "    [130, 69]\n",
    "])\n",
    "\n",
    "print(X.shape)"
   ]
  }
 ],
 "metadata": {
  "kernelspec": {
   "display_name": "Python 3 (ipykernel)",
   "language": "python",
   "name": "python3"
  },
  "language_info": {
   "codemirror_mode": {
    "name": "ipython",
    "version": 3
   },
   "file_extension": ".py",
   "mimetype": "text/x-python",
   "name": "python",
   "nbconvert_exporter": "python",
   "pygments_lexer": "ipython3",
   "version": "3.12.3"
  }
 },
 "nbformat": 4,
 "nbformat_minor": 5
}
