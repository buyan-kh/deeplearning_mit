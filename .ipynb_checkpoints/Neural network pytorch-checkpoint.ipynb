{
 "cells": [
  {
   "cell_type": "code",
   "execution_count": 8,
   "id": "681f1045-fdc8-4e89-87b2-76e84ccf849f",
   "metadata": {},
   "outputs": [],
   "source": [
    "import torch\n",
    "import torch.nn as nn\n",
    "!pip install mitdeeplearning --quiet\n",
    "import mitdeeplearning as mdl\n",
    "\n",
    "import numpy as np\n",
    "import matplotlib.pyplot as plt"
   ]
  },
  {
   "cell_type": "code",
   "execution_count": 11,
   "id": "db59b842-41a1-4f6a-9c9e-586d798112a8",
   "metadata": {},
   "outputs": [
    {
     "name": "stdout",
     "output_type": "stream",
     "text": [
      "`integer` is a 0-d Tensor: 1234\n",
      "`decimal` is a 0-d Tensor: 3.1415927410125732\n"
     ]
    }
   ],
   "source": [
    "integer = torch.tensor(1234)\n",
    "decimal = torch.tensor(3.14159265359)\n",
    "print(f\"`integer` is a {integer.ndim}-d Tensor: {integer}\")\n",
    "print(f\"`decimal` is a {decimal.ndim}-d Tensor: {decimal}\")"
   ]
  },
  {
   "cell_type": "code",
   "execution_count": 17,
   "id": "8b33f96c-93c7-4c35-89d2-12c8889c2392",
   "metadata": {},
   "outputs": [
    {
     "name": "stdout",
     "output_type": "stream",
     "text": [
      "`fibonacci` is a 1-d Tensor with shape torch.Size([6])\n",
      "`count_to_100` is a 1-d Tensor with shape: torch.Size([100])\n"
     ]
    }
   ],
   "source": [
    "fibonacci = torch.tensor([1, 1, 2, 3, 5, 8])\n",
    "count_to_100 = torch.tensor(range(100))\n",
    "print(f\"`fibonacci` is a {fibonacci.ndim}-d Tensor with shape {fibonacci.shape}\")\n",
    "print(f\"`count_to_100` is a {count_to_100.ndim}-d Tensor with shape: {count_to_100.shape}\")"
   ]
  },
  {
   "cell_type": "code",
   "execution_count": 37,
   "id": "88ee58a2-7f96-4f5c-816c-9c410ec01b8a",
   "metadata": {},
   "outputs": [
    {
     "name": "stdout",
     "output_type": "stream",
     "text": [
      "images is a 4-d Tensor with shape: torch.Size([10, 3, 256, 256])\n"
     ]
    }
   ],
   "source": [
    "matrix = torch.zeros(2, 2)\n",
    "assert isinstance(matrix, torch.Tensor)\n",
    "assert matrix.ndim == 2\n",
    "\n",
    "images = torch.zeros((10, 3, 256, 256))\n",
    "assert isinstance(images, torch.Tensor)\n",
    "assert images.ndim == 4\n",
    "assert images.shape == (10, 3, 256, 256)\n",
    "print(f\"images is a {images.ndim}-d Tensor with shape: {images.shape}\")"
   ]
  },
  {
   "cell_type": "code",
   "execution_count": 39,
   "id": "0d261934-071d-4155-95b1-56d925835778",
   "metadata": {},
   "outputs": [
    {
     "name": "stdout",
     "output_type": "stream",
     "text": [
      "`row_vector`: tensor([0., 0.])\n",
      "`column_vector`: tensor([0., 0.])\n",
      "`scalar`: 0.0\n"
     ]
    }
   ],
   "source": [
    "row_vector = matrix[1]\n",
    "column_vector = matrix[:, 1]\n",
    "scalar = matrix[0, 1]\n",
    "\n",
    "print(f\"`row_vector`: {row_vector}\")\n",
    "print(f\"`column_vector`: {column_vector}\")\n",
    "print(f\"`scalar`: {scalar}\")"
   ]
  },
  {
   "cell_type": "code",
   "execution_count": 40,
   "id": "7815a002-47da-4750-883e-61ea95baf04a",
   "metadata": {},
   "outputs": [
    {
     "name": "stdout",
     "output_type": "stream",
     "text": [
      "c1: 76\n",
      "c2: 76\n"
     ]
    }
   ],
   "source": [
    "a = torch.tensor(15)\n",
    "b = torch.tensor(61)\n",
    "\n",
    "c1 = torch.add(a, b)\n",
    "c2 = a + b\n",
    "print(f\"c1: {c1}\")\n",
    "print(f\"c2: {c2}\")"
   ]
  },
  {
   "cell_type": "code",
   "execution_count": 43,
   "id": "e70f1628-7a94-47f3-8d71-dcaf70dbbcc3",
   "metadata": {},
   "outputs": [],
   "source": [
    "def func(a, b):\n",
    "    c = torch.add(a, b)\n",
    "    d = torch.subtract(b, 1)\n",
    "    e = torch.multiply(c, d)\n",
    "    return e"
   ]
  },
  {
   "cell_type": "code",
   "execution_count": 48,
   "id": "66a7808a-3079-439e-8886-6edb0fb99e05",
   "metadata": {},
   "outputs": [
    {
     "name": "stdout",
     "output_type": "stream",
     "text": [
      "e_out: 6.0\n"
     ]
    }
   ],
   "source": [
    "a, b = 1.5, 2.5\n",
    "e_out = func(a, b)\n",
    "print(f\"e_out: {e_out}\") # scalar value"
   ]
  },
  {
   "cell_type": "code",
   "execution_count": 57,
   "id": "10f0d5df-dada-408b-aaa2-19d95e403db2",
   "metadata": {},
   "outputs": [],
   "source": [
    "### Defining a dense layer\n",
    "# num_inputs: number of input nodes\n",
    "# num_outputs: number of output nodes\n",
    "# x: input to the layer\n",
    "\n",
    "class OurDenseLayer(torch.nn.Module):\n",
    "    def __init__(self, num_inputs, num_outputs):\n",
    "        super(OurDenseLayer, self).__init__()\n",
    "        # Define and initialize parameters: a weight matrix W and bias b\n",
    "        # Note that the parameter initialize is random!\n",
    "\n",
    "        self.W = torch.nn.Parameter(torch.randn(num_inputs, num_outputs))\n",
    "        self.bias = torch.nn.Parameter(torch.randn(num_outputs))\n",
    "    def forward(self, x):\n",
    "        z = torch.matmul(x, self.W) + self.bias\n",
    "        y = torch.sigmoid(z)\n",
    "        return y"
   ]
  },
  {
   "cell_type": "code",
   "execution_count": 58,
   "id": "f82f8ea1-a4fa-4f4b-b116-9e4d14816250",
   "metadata": {},
   "outputs": [
    {
     "name": "stdout",
     "output_type": "stream",
     "text": [
      "input shape: torch.Size([1, 2])\n",
      "output shape: torch.Size([1, 3])\n",
      "output result: tensor([[0.0815, 0.0123, 0.9661]], grad_fn=<SigmoidBackward0>)\n"
     ]
    }
   ],
   "source": [
    "num_inputs = 2\n",
    "num_outputs = 3\n",
    "layer = OurDenseLayer(num_inputs, num_outputs)\n",
    "x_input = torch.tensor([[1, 2.]])\n",
    "y = layer(x_input)\n",
    "\n",
    "print(f\"input shape: {x_input.shape}\")\n",
    "print(f\"output shape: {y.shape}\")\n",
    "print(f\"output result: {y}\")"
   ]
  },
  {
   "cell_type": "code",
   "execution_count": null,
   "id": "d31b905e-7fe6-4d36-a702-1403ce26dc71",
   "metadata": {},
   "outputs": [],
   "source": []
  },
  {
   "cell_type": "code",
   "execution_count": 112,
   "id": "fcbc68f3-f34a-4cd1-9187-0b76668cbeb8",
   "metadata": {},
   "outputs": [],
   "source": [
    "# Defining neural network using the PyTorch Sequential API\n",
    "n_input_nodes = 2\n",
    "n_output_nodes = 5\n",
    "model = nn.Sequential(\n",
    "    nn.Linear(n_input_nodes, n_output_nodes),\n",
    "    nn.Sigmoid()\n",
    ")"
   ]
  },
  {
   "cell_type": "code",
   "execution_count": 115,
   "id": "69fb2616-70fc-4cbe-a005-ea566945f04b",
   "metadata": {},
   "outputs": [
    {
     "name": "stdout",
     "output_type": "stream",
     "text": [
      "input shape: torch.Size([1, 2])\n",
      "output shape: torch.Size([1, 5])\n",
      "output result: tensor([[0.4235, 0.1736, 0.7574, 0.5862, 0.4991]], grad_fn=<SigmoidBackward0>)\n",
      "weight: Parameter containing:\n",
      "tensor([[ 0.0600,  0.0996],\n",
      "        [-0.4243, -0.5876],\n",
      "        [ 0.1326,  0.4743],\n",
      "        [ 0.6020,  0.1099],\n",
      "        [-0.0756,  0.3480]], requires_grad=True)\n",
      "weight: Parameter containing:\n",
      "tensor([-0.5675,  0.0392,  0.0575, -0.4736, -0.6238], requires_grad=True)\n"
     ]
    }
   ],
   "source": [
    "x_input = torch.tensor([[1, 2.]])\n",
    "model_output = model(x_input)\n",
    "print(f\"input shape: {x_input.shape}\")\n",
    "print(f\"output shape: {model_output.shape}\")\n",
    "print(f\"output result: {model_output}\")\n",
    "print(f\"weight: {model[0].weight}\")\n",
    "print(f\"weight: {model[0].bias}\")"
   ]
  },
  {
   "cell_type": "code",
   "execution_count": 116,
   "id": "a1662bb2-a79e-4088-ace3-ee20be1c9912",
   "metadata": {},
   "outputs": [],
   "source": [
    "class LinearWithSigmoidActivation(nn.Module):\n",
    "    def __init__(self, num_inputs, num_outputs):\n",
    "        super(LinearWithSigmoidActivation, self).__init__()\n",
    "        self.linear = nn.Linear(num_inputs, num_outputs)\n",
    "        self.activation = nn.Sigmoid()\n",
    "    def forward(self, inputs):\n",
    "        linear_output = self.linear(inputs)\n",
    "        output = self.activation(linear_output)\n",
    "        return output"
   ]
  },
  {
   "cell_type": "code",
   "execution_count": 139,
   "id": "9aff4a74-dfa1-4cd5-8f3b-65f6fbb40cc6",
   "metadata": {},
   "outputs": [
    {
     "name": "stdout",
     "output_type": "stream",
     "text": [
      "input shape: torch.Size([3])\n",
      "output shape: torch.Size([6])\n",
      "output result: tensor([0.4148, 0.8259, 0.6360, 0.6011, 0.6685, 0.0814],\n",
      "       grad_fn=<SigmoidBackward0>)\n"
     ]
    }
   ],
   "source": [
    "n_input_nodes = 3\n",
    "n_output_nodes = 6\n",
    "model = LinearWithSigmoidActivation(n_input_nodes, n_output_nodes)\n",
    "x_input = torch.tensor([1, 2.0, 3])\n",
    "y = model(x_input)\n",
    "print(f\"input shape: {x_input.shape}\")\n",
    "print(f\"output shape: {y.shape}\")\n",
    "print(f\"output result: {y}\")\n"
   ]
  },
  {
   "cell_type": "code",
   "execution_count": 144,
   "id": "d180174d-d653-4cd9-a2d6-479fe842c5a9",
   "metadata": {},
   "outputs": [],
   "source": [
    "class LinearButSometimesIdentity(nn.Module):\n",
    "    def __init__(self, num_inputs, num_outputs):\n",
    "        super(LinearButSometimesIdentity, self).__init__()\n",
    "        self.linear = nn.Linear(num_inputs, num_outputs)\n",
    "\n",
    "    def forward(self, inputs, isidentity=False):\n",
    "        if isidentity:\n",
    "            return inputs\n",
    "        else:\n",
    "            return self.linear(inputs)"
   ]
  },
  {
   "cell_type": "code",
   "execution_count": 151,
   "id": "4a684ff5-6275-4fb5-8f8a-de3b353ea8bf",
   "metadata": {},
   "outputs": [
    {
     "name": "stdout",
     "output_type": "stream",
     "text": [
      "tensor([-0.2571,  0.9732, -0.2035], grad_fn=<ViewBackward0>)\n",
      "tensor([1., 2.])\n"
     ]
    }
   ],
   "source": [
    "model = LinearButSometimesIdentity(num_inputs=2, num_outputs=3)\n",
    "x_input = torch.tensor([1, 2.])\n",
    "\n",
    "out_with_linear = model(x_input)\n",
    "print(out_with_linear)\n",
    "out_with_identity = model(x_input, isidentity=True)\n",
    "print(out_with_identity)\n"
   ]
  },
  {
   "cell_type": "markdown",
   "id": "0307cd68-7651-42af-8bb9-3500fb5b8e6b",
   "metadata": {},
   "source": [
    "### Automatic Differentiation in Pytorch"
   ]
  },
  {
   "cell_type": "code",
   "execution_count": 158,
   "id": "1e52caf4-133c-4c46-ac3f-253bea1c4dad",
   "metadata": {},
   "outputs": [],
   "source": [
    "# gradient of y = x^2\n",
    "# example x = 3.0\n",
    "\n",
    "x = torch.tensor(3.0, requires_grad=True)\n",
    "y = x ** 2\n",
    "y.backward()"
   ]
  },
  {
   "cell_type": "code",
   "execution_count": 163,
   "id": "89a6f6e6-b542-424c-9b30-ba5e3121d956",
   "metadata": {},
   "outputs": [
    {
     "name": "stdout",
     "output_type": "stream",
     "text": [
      "dy_dx of y=x^2 at x=3.0 is:  tensor(6.)\n"
     ]
    }
   ],
   "source": [
    "dy_dx = x.grad\n",
    "print(\"dy_dx of y=x^2 at x=3.0 is: \", dy_dx)\n",
    "assert dy_dx == 6.0"
   ]
  },
  {
   "cell_type": "code",
   "execution_count": 169,
   "id": "59d10864-30f9-4f4a-9b5a-f690e88fa2b9",
   "metadata": {},
   "outputs": [
    {
     "name": "stdout",
     "output_type": "stream",
     "text": [
      "Initializing x=-0.5261537432670593\n"
     ]
    },
    {
     "data": {
      "image/png": "[encoded data removed]",
      "text/plain": [
       "<Figure size 640x480 with 1 Axes>"
      ]
     },
     "metadata": {},
     "output_type": "display_data"
    }
   ],
   "source": [
    "x = torch.randn(1)\n",
    "print(f\"Initializing x={x.item()}\")\n",
    "\n",
    "learning_rate = 1e-2\n",
    "history = []\n",
    "x_f = 4 # target value\n",
    "\n",
    "# Run gradient descent for a number of iterations. At each iteration, compute the loss\n",
    "# and the derivative of the loss with respect to x, and update\n",
    "\n",
    "for i in range(500):\n",
    "    x = torch.tensor([x], requires_grad=True)\n",
    "    loss = (x - x_f) ** 2\n",
    "    loss.backward()\n",
    "    x = x.item() - learning_rate * x.grad\n",
    "    history.append(x.item())\n",
    "plt.plot(history)\n",
    "plt.plot([0, 500], [x_f, x_f])\n",
    "plt.legend(('Predicted', 'True'))\n",
    "plt.xlabel('Iteration')\n",
    "plt.ylabel('x value')\n",
    "plt.show()"
   ]
  },
  {
   "cell_type": "code",
   "execution_count": null,
   "id": "8617b61c-b87d-47d9-907a-a806d1d60dea",
   "metadata": {},
   "outputs": [],
   "source": []
  }
 ],
 "metadata": {
  "kernelspec": {
   "display_name": "Python 3 (ipykernel)",
   "language": "python",
   "name": "python3"
  },
  "language_info": {
   "codemirror_mode": {
    "name": "ipython",
    "version": 3
   },
   "file_extension": ".py",
   "mimetype": "text/x-python",
   "name": "python",
   "nbconvert_exporter": "python",
   "pygments_lexer": "ipython3",
   "version": "3.12.3"
  }
 },
 "nbformat": 4,
 "nbformat_minor": 5
}
