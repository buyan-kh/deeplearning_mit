{
 "cells": [
  {
   "cell_type": "code",
   "execution_count": 1,
   "id": "09e5548c-d89b-4bef-877a-ec6b643f29b3",
   "metadata": {},
   "outputs": [],
   "source": [
    "import tensorflow as tf\n",
    "from torch import nn"
   ]
  },
  {
   "cell_type": "code",
   "execution_count": 5,
   "id": "691a82ac-1f81-4f9f-bf14-0680919e9fcc",
   "metadata": {},
   "outputs": [],
   "source": [
    "n = 3\n",
    "model = tf.keras.Sequential([\n",
    "    tf.keras.layers.Dense(n),\n",
    "    tf.keras.layers.Dense(2)\n",
    "])\n"
   ]
  },
  {
   "cell_type": "markdown",
   "id": "701c16dd-6607-4a4b-a52f-ea1e0166ccd5",
   "metadata": {},
   "source": [
    "binary loss\n",
    "loss = tf.reduce_mean(tf.nn.softmax_cross_entropy_with_logits(y, predicted)\n",
    "\n",
    "mean squared error loss\n",
    "loss = tf.keras.losses.MSE(y, predicted)\n",
    "loss = tf.reduce_mean(tf.square(tf.subtract(y, predicted)))"
   ]
  },
  {
   "cell_type": "code",
   "execution_count": 8,
   "id": "0e40bb96-5926-415a-9823-79831b92346c",
   "metadata": {},
   "outputs": [],
   "source": [
    "m, n = 4, 2\n",
    "from torch import nn\n",
    "model = nn.Sequential(\n",
    "    nn.Linear(m, n),\n",
    "    nn.ReLU(),\n",
    "    nn.Linear(n, 2)\n",
    ")"
   ]
  },
  {
   "attachments": {},
   "cell_type": "markdown",
   "id": "c49b93d3-35e2-4b3b-a6df-66c48095b400",
   "metadata": {},
   "source": [
    "binary loss (categorical discrete loss)\n",
    "loss = torch.nn.funcitonal.cross_entropy(predicted, y)\n",
    "\n",
    "mean squared error loss\n",
    "loss = torch.nn.funcitonal.mse_loss(predicted, y)\n"
   ]
  },
  {
   "cell_type": "markdown",
   "id": "79b4d67e-cad9-4967-8e00-ce045fb4b6eb",
   "metadata": {},
   "source": [
    "Learning rate adapt"
   ]
  },
  {
   "cell_type": "code",
   "execution_count": null,
   "id": "023e9a04-20de-4e3b-8547-eead0ea39591",
   "metadata": {},
   "outputs": [],
   "source": [
    "model = tf.keras.Sequential([1, 2, 3])\n",
    "optimizer = tf.keras.optimizer.SGD()\n",
    "\n",
    "while True:\n",
    "    prediction = model(x)\n",
    "\n",
    "    with tf.GradientTape() as tape:\n",
    "    loss = compute_loss(y, prediction)\n",
    "    grads = tape.gradient(loss, model.trainable_variables)\n",
    "    optimizer.apply_gradients(zip(grads, model.trainable_variables))"
   ]
  },
  {
   "cell_type": "code",
   "execution_count": null,
   "id": "37613fbb-0249-454b-9b53-30a05f18944f",
   "metadata": {},
   "outputs": [],
   "source": []
  }
 ],
 "metadata": {
  "kernelspec": {
   "display_name": "Python 3 (ipykernel)",
   "language": "python",
   "name": "python3"
  },
  "language_info": {
   "codemirror_mode": {
    "name": "ipython",
    "version": 3
   },
   "file_extension": ".py",
   "mimetype": "text/x-python",
   "name": "python",
   "nbconvert_exporter": "python",
   "pygments_lexer": "ipython3",
   "version": "3.12.3"
  }
 },
 "nbformat": 4,
 "nbformat_minor": 5
}
