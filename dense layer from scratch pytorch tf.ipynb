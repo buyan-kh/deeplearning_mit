{
 "cells": [
  {
   "cell_type": "code",
   "execution_count": 2,
   "id": "a04d0309-9a0c-43f7-8fb9-662fc1d0bf76",
   "metadata": {},
   "outputs": [],
   "source": [
    "import tensorflow as tf\n",
    "import torch"
   ]
  },
  {
   "cell_type": "code",
   "execution_count": 8,
   "id": "d42063ed-0ca5-4878-b52f-f001a05dcf2e",
   "metadata": {},
   "outputs": [],
   "source": [
    "# Tensorflow"
   ]
  },
  {
   "cell_type": "code",
   "execution_count": 7,
   "id": "333a7e42-7deb-43bf-8565-33e0b4320881",
   "metadata": {},
   "outputs": [],
   "source": [
    "class MyDenseLayer(tf.keras.layers.Layer):\n",
    "    \n",
    "    def __init__(self, input_dim, output_dim):\n",
    "        \n",
    "        super(MyDenseLayer, self).__init__()\n",
    "        \n",
    "        self.W = self.add_weight([input_dim, output_dim])\n",
    "        \n",
    "        self.b = self.add_weight([1, output_dim])\n",
    "        \n",
    "    def call(self, inputs):\n",
    "        z = tf.matmul(inputs, self.W) + self.b\n",
    "        output = tf.math.sigmoid(z)\n",
    "        return output"
   ]
  },
  {
   "cell_type": "code",
   "execution_count": 9,
   "id": "1eb7ad5b-cf1c-474a-8343-2349cb383af7",
   "metadata": {},
   "outputs": [],
   "source": [
    "# Pytorch"
   ]
  },
  {
   "cell_type": "code",
   "execution_count": null,
   "id": "8a96a231-20c9-4e58-852d-48add698152f",
   "metadata": {},
   "outputs": [],
   "source": [
    "class MyDenseLayer(nn.Module):\n",
    "    def __init__(self, input_dim, output_dim):\n",
    "        super(MyDenseLayer, self).__init__()\n",
    "\n",
    "        self.W = nn.Parameter(torch.randn(input_dim, output_dim, requires_grad=True)\n",
    "        self.b = nn.Parameter(torch.randn(1, output_dim, requires_grad=True)\n",
    "    def forward(self, inputs):\n",
    "            z = torch.matmul(inputs, self.W) + self.b\n",
    "            output = torch.sigmoid(z)\n",
    "            "
   ]
  }
 ],
 "metadata": {
  "kernelspec": {
   "display_name": "Python 3 (ipykernel)",
   "language": "python",
   "name": "python3"
  },
  "language_info": {
   "codemirror_mode": {
    "name": "ipython",
    "version": 3
   },
   "file_extension": ".py",
   "mimetype": "text/x-python",
   "name": "python",
   "nbconvert_exporter": "python",
   "pygments_lexer": "ipython3",
   "version": "3.12.3"
  }
 },
 "nbformat": 4,
 "nbformat_minor": 5
}
