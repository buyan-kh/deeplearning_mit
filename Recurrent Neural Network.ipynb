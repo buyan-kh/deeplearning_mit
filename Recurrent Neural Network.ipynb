{
 "cells": [
  {
   "cell_type": "code",
   "execution_count": null,
   "id": "4db7db9a-9590-430f-8a16-b2ec25b11700",
   "metadata": {},
   "outputs": [],
   "source": [
    "import tensorflow as tf \n",
    "import torch as nn"
   ]
  },
  {
   "cell_type": "code",
   "execution_count": null,
   "id": "efa01cd6-5827-468a-9c59-75ce4b61767d",
   "metadata": {},
   "outputs": [],
   "source": [
    "my_rnn = RNN()\n",
    "hidden_state = [0, 0, 0 ,0]\n",
    "\n",
    "sentence = [\"I\", \"Love\", \"Recurrent\", \"Neural\"]\n",
    "\n",
    "for word in sentence:\n",
    "    prediction, hidden_state = my_rnn(word, hidden_state)\n",
    "\n",
    "next_word_prediction = prediction"
   ]
  },
  {
   "cell_type": "code",
   "execution_count": null,
   "id": "10010481-b275-4f24-a12a-b495f7e6c5a4",
   "metadata": {},
   "outputs": [],
   "source": [
    "class MyRNNCell(tf.keras.layers.Layer):\n",
    "    def __init__(self, rnn_units, input_dim, output_dim):\n",
    "        super(MyRNNCell, self).__init__()\n",
    "\n",
    "\n",
    "        self.W_xh = self.add_weight([rnn_units, input_dim])\n",
    "        self.W_hh = self.add_weight([rnn_units, rnn_units])\n",
    "        self.W_hy = self.add_weight([output_dim, rnn_units])\n",
    "\n",
    "        self.h = tf.zeros([rnn_units, 1])\n",
    "\n",
    "    def call(self, x):\n",
    "        self.h = tf.math.tanh(self.W_hh * self.h + self.W_xh * x)\n",
    "\n",
    "        output = self.W_hy * self.h\n",
    "\n",
    "        return output, self.h"
   ]
  },
  {
   "cell_type": "code",
   "execution_count": null,
   "id": "f66335f9-87f8-40db-9306-98b4442315e7",
   "metadata": {},
   "outputs": [],
   "source": [
    "from tf.keras.layers import SimpleRNN\n",
    "model = SimpleRNN(rnn_units)"
   ]
  }
 ],
 "metadata": {
  "kernelspec": {
   "display_name": "Python 3 (ipykernel)",
   "language": "python",
   "name": "python3"
  },
  "language_info": {
   "codemirror_mode": {
    "name": "ipython",
    "version": 3
   },
   "file_extension": ".py",
   "mimetype": "text/x-python",
   "name": "python",
   "nbconvert_exporter": "python",
   "pygments_lexer": "ipython3",
   "version": "3.12.3"
  }
 },
 "nbformat": 4,
 "nbformat_minor": 5
}
